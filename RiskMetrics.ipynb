{
  "nbformat": 4,
  "nbformat_minor": 0,
  "metadata": {
    "colab": {
      "provenance": [],
      "authorship_tag": "ABX9TyO+4h7MbwWfA+FOsQf6P1Fr",
      "include_colab_link": true
    },
    "kernelspec": {
      "name": "python3",
      "display_name": "Python 3"
    },
    "language_info": {
      "name": "python"
    }
  },
  "cells": [
    {
      "cell_type": "markdown",
      "metadata": {
        "id": "view-in-github",
        "colab_type": "text"
      },
      "source": [
        "<a href=\"https://colab.research.google.com/github/MiM0ulay/RiskMetrics/blob/main/RiskMetrics.ipynb\" target=\"_parent\"><img src=\"https://colab.research.google.com/assets/colab-badge.svg\" alt=\"Open In Colab\"/></a>"
      ]
    },
    {
      "cell_type": "code",
      "execution_count": 1,
      "metadata": {
        "colab": {
          "base_uri": "https://localhost:8080/"
        },
        "id": "Uja55SKFmRxO",
        "outputId": "fe5a159a-3368-4813-a0f9-7f1ad873c8f2"
      },
      "outputs": [
        {
          "output_type": "stream",
          "name": "stdout",
          "text": [
            "Collecting nasdaq-data-link\n",
            "  Downloading Nasdaq_Data_Link-1.0.4-py2.py3-none-any.whl.metadata (1.3 kB)\n",
            "Requirement already satisfied: pandas>=0.14 in /usr/local/lib/python3.10/dist-packages (from nasdaq-data-link) (2.2.2)\n",
            "Requirement already satisfied: numpy>=1.8 in /usr/local/lib/python3.10/dist-packages (from nasdaq-data-link) (1.26.4)\n",
            "Requirement already satisfied: requests>=2.7.0 in /usr/local/lib/python3.10/dist-packages (from nasdaq-data-link) (2.32.3)\n",
            "Collecting inflection>=0.3.1 (from nasdaq-data-link)\n",
            "  Downloading inflection-0.5.1-py2.py3-none-any.whl.metadata (1.7 kB)\n",
            "Requirement already satisfied: python-dateutil in /usr/local/lib/python3.10/dist-packages (from nasdaq-data-link) (2.8.2)\n",
            "Requirement already satisfied: six in /usr/local/lib/python3.10/dist-packages (from nasdaq-data-link) (1.17.0)\n",
            "Requirement already satisfied: more-itertools in /usr/local/lib/python3.10/dist-packages (from nasdaq-data-link) (10.5.0)\n",
            "Requirement already satisfied: pytz>=2020.1 in /usr/local/lib/python3.10/dist-packages (from pandas>=0.14->nasdaq-data-link) (2024.2)\n",
            "Requirement already satisfied: tzdata>=2022.7 in /usr/local/lib/python3.10/dist-packages (from pandas>=0.14->nasdaq-data-link) (2024.2)\n",
            "Requirement already satisfied: charset-normalizer<4,>=2 in /usr/local/lib/python3.10/dist-packages (from requests>=2.7.0->nasdaq-data-link) (3.4.0)\n",
            "Requirement already satisfied: idna<4,>=2.5 in /usr/local/lib/python3.10/dist-packages (from requests>=2.7.0->nasdaq-data-link) (3.10)\n",
            "Requirement already satisfied: urllib3<3,>=1.21.1 in /usr/local/lib/python3.10/dist-packages (from requests>=2.7.0->nasdaq-data-link) (2.2.3)\n",
            "Requirement already satisfied: certifi>=2017.4.17 in /usr/local/lib/python3.10/dist-packages (from requests>=2.7.0->nasdaq-data-link) (2024.12.14)\n",
            "Downloading Nasdaq_Data_Link-1.0.4-py2.py3-none-any.whl (28 kB)\n",
            "Downloading inflection-0.5.1-py2.py3-none-any.whl (9.5 kB)\n",
            "Installing collected packages: inflection, nasdaq-data-link\n",
            "Successfully installed inflection-0.5.1 nasdaq-data-link-1.0.4\n"
          ]
        }
      ],
      "source": [
        "!pip install nasdaq-data-link\n"
      ]
    },
    {
      "cell_type": "code",
      "source": [
        "from datetime import date\n",
        "import numpy as np\n",
        "import pandas as pd\n",
        "from plotly.subplots import make_subplots\n",
        "import plotly.express as px\n",
        "import plotly.graph_objects as go\n",
        "import nasdaqdatalink\n",
        "import yfinance as yf"
      ],
      "metadata": {
        "id": "RrdHwb6KmUgl"
      },
      "execution_count": 2,
      "outputs": []
    },
    {
      "cell_type": "code",
      "source": [
        "def calculate_btc_risk_metric():\n",
        "    # Download historical data from Quandl\n",
        "  df = nasdaqdatalink.get_table(\"QDL/BCHAIN\", api_key='rRQgKH5b9t6Bmb1z81QE', paginate=True)\n",
        "  df = df[df[\"code\"] == \"MKPRU\"].reset_index()\n",
        "  df['date'] = pd.to_datetime(df['date'])\n",
        "  df.sort_values(by='date', inplace=True)\n",
        "  df = df[df['value'] > 0]\n",
        "  # get data thats not in the quandl database\n",
        "  new_data = yf.download(tickers='BTC-USD', start='2024-01-01', interval='1d', progress=False)\n",
        "  new_data.reset_index(inplace=True)\n",
        "  # restructure yf dataframe to match the quandl one\n",
        "  new_data.rename(columns={'Date': 'date', 'Open': 'value'}, inplace=True)\n",
        "  new_data = new_data[['date', 'value']]\n",
        "  df = pd.concat([df, new_data], ignore_index=True)\n",
        "  df.drop_duplicates(subset='date', keep='first', inplace=True)\n",
        "  df.sort_values(by='date', inplace=True)\n",
        "  btcdata = yf.download(tickers='BTC-USD', period='1d', interval='1m', progress=False)\n",
        "  btcdata.reset_index(inplace=True)\n",
        "  df = df.dropna(subset=['value'])\n",
        "  df = df[['date', 'value']]\n",
        "  diminishing_factor = 0.395\n",
        "  moving_average_days = 365\n",
        "  df['MA'] = df['value'].rolling(moving_average_days, min_periods=1).mean().dropna()\n",
        "  df['Preavg'] = (np.log(df.value) - np.log(df['MA'])) * df.index**diminishing_factor\n",
        "  df['avg'] = (df['Preavg'] - df['Preavg'].cummin()) / (df['Preavg'].cummax() - df['Preavg'].cummin())\n",
        "   # Store results\n",
        "  results = []\n",
        "  results.append(['BTC-USD', df['date'].iloc[-1], df['value'].iloc[-1], df['MA'].iloc[-1], df['avg'].iloc[-1]])\n",
        "\n",
        "  return results\n"
      ],
      "metadata": {
        "id": "SuX4zrBAD2os"
      },
      "execution_count": 65,
      "outputs": []
    },
    {
      "cell_type": "code",
      "source": [
        "def calculate_risk_metric(ticker, start_date):\n",
        "  # Download data\n",
        "  df = yf.download(tickers=ticker, start=start_date, interval='1d', progress=False)\n",
        "\n",
        "  # Debugging: Check the column names\n",
        "\n",
        "  # Reset the index and flatten column names (if needed)\n",
        "  df.reset_index(inplace=True)\n",
        "\n",
        "  # Handle multi-level columns (flatten them if they exist)\n",
        "  df.columns = [col[0] if isinstance(col, tuple) else col for col in df.columns]\n",
        "\n",
        "  # Debugging: Check flattened column names\n",
        "\n",
        "  # Rename columns for consistency\n",
        "  if 'Open' in df.columns:\n",
        "      df.rename(columns={'Date': 'date', 'Open': 'value'}, inplace=True)\n",
        "  elif 'value' not in df.columns:\n",
        "      raise KeyError(\"The required columns ('date', 'value') are not found in the DataFrame.\")\n",
        "\n",
        "  # Keep necessary columns\n",
        "  df = df[['date', 'value']].copy()\n",
        "\n",
        "  # Sort by date\n",
        "  df.sort_values(by='date', inplace=True)\n",
        "\n",
        "  # Calculate moving average\n",
        "  moving_average_days = 365\n",
        "  df['MA'] = df['value'].rolling(moving_average_days, min_periods=1).mean()\n",
        "\n",
        "  # Ensure no NaN values\n",
        "  df = df.dropna().reset_index(drop=True)\n",
        "\n",
        "  # Calculate Preavg\n",
        "  diminishing_factor = 0.395\n",
        "  df['Preavg'] = (np.log(df['value']) - np.log(df['MA'])) * (np.arange(len(df)) + 1) ** diminishing_factor\n",
        "  df['avg'] = (df['Preavg'] - df['Preavg'].cummin()) / (df['Preavg'].cummax() - df['Preavg'].cummin())\n",
        "  price_per_risk = {\n",
        "    round(risk, 1):round(np.exp(\n",
        "        (risk * (df['Preavg'].cummax().iloc[-1] - (cummin := df['Preavg'].cummin().iloc[-1])) + cummin) / df.index[-1]**diminishing_factor + np.log(df['MA'].iloc[-1])\n",
        "    ))\n",
        "    for risk in np.arange(0.0, 1.0, 0.1)\n",
        "  }\n",
        "\n",
        "   # Store results\n",
        "  results = []\n",
        "  results.append([ticker, df['date'].iloc[-1], df['value'].iloc[-1], df['MA'].iloc[-1], df['avg'].iloc[-1]])\n",
        "\n",
        "  return results\n",
        "\n"
      ],
      "metadata": {
        "id": "869F9HdQmgA2"
      },
      "execution_count": 41,
      "outputs": []
    },
    {
      "cell_type": "code",
      "source": [
        "cryptos = { 'ETH-USD':   '2016-01-01',\n",
        "            'SOL-USD':   '2020-01-01',\n",
        "            'BNB-USD':       '2017-01-01',\n",
        "            'SUI20947-USD' : '2023-05-01',\n",
        "            'APT21794-USD' : '2022-11-01',\n",
        "            'XRP-USD' : '2017-12-01',\n",
        "            'LINK-USD' : '2017-12-01',\n",
        "            'RNDR-USD' : '2020-07-01',\n",
        "            'VIRTUAL-USD' : '2024-03-01',\n",
        "            'TAO22974-USD' : '2023-03-01',\n",
        "            }\n"
      ],
      "metadata": {
        "id": "qJTqLhUTG819"
      },
      "execution_count": 93,
      "outputs": []
    },
    {
      "cell_type": "code",
      "source": [
        "all_results = []\n",
        "all_results.extend(calculate_btc_risk_metric())\n",
        "for ticker, start_date in cryptos.items():\n",
        "  all_results.extend(calculate_risk_metric(ticker, start_date))\n",
        "\n",
        "# Create a pandas DataFrame\n",
        "df_results = pd.DataFrame(all_results, columns=['ticker', 'date', 'value', 'MA', 'avg'])\n",
        "\n",
        "# Display the DataFrame as a table\n",
        "styled_df = df_results.style.applymap(lambda x: 'color: green' if x < 0.5 else '', subset=['avg'])\n",
        "styled_df"
      ],
      "metadata": {
        "colab": {
          "base_uri": "https://localhost:8080/",
          "height": 431
        },
        "id": "-2If60VjB6E8",
        "outputId": "0d7fd406-d1f4-459f-ed0e-7ec2113c6a9e"
      },
      "execution_count": 94,
      "outputs": [
        {
          "output_type": "stream",
          "name": "stderr",
          "text": [
            "<ipython-input-94-8de6d28373a3>:10: FutureWarning: Styler.applymap has been deprecated. Use Styler.map instead.\n",
            "  styled_df = df_results.style.applymap(lambda x: 'color: green' if x < 0.5 else '', subset=['avg'])\n"
          ]
        },
        {
          "output_type": "execute_result",
          "data": {
            "text/plain": [
              "<pandas.io.formats.style.Styler at 0x7d849ca2a650>"
            ],
            "text/html": [
              "<style type=\"text/css\">\n",
              "#T_c9d15_row1_col4, #T_c9d15_row3_col4, #T_c9d15_row5_col4, #T_c9d15_row10_col4 {\n",
              "  color: green;\n",
              "}\n",
              "</style>\n",
              "<table id=\"T_c9d15\" class=\"dataframe\">\n",
              "  <thead>\n",
              "    <tr>\n",
              "      <th class=\"blank level0\" >&nbsp;</th>\n",
              "      <th id=\"T_c9d15_level0_col0\" class=\"col_heading level0 col0\" >ticker</th>\n",
              "      <th id=\"T_c9d15_level0_col1\" class=\"col_heading level0 col1\" >date</th>\n",
              "      <th id=\"T_c9d15_level0_col2\" class=\"col_heading level0 col2\" >value</th>\n",
              "      <th id=\"T_c9d15_level0_col3\" class=\"col_heading level0 col3\" >MA</th>\n",
              "      <th id=\"T_c9d15_level0_col4\" class=\"col_heading level0 col4\" >avg</th>\n",
              "    </tr>\n",
              "  </thead>\n",
              "  <tbody>\n",
              "    <tr>\n",
              "      <th id=\"T_c9d15_level0_row0\" class=\"row_heading level0 row0\" >0</th>\n",
              "      <td id=\"T_c9d15_row0_col0\" class=\"data row0 col0\" >BTC-USD</td>\n",
              "      <td id=\"T_c9d15_row0_col1\" class=\"data row0 col1\" >2024-12-30 00:00:00</td>\n",
              "      <td id=\"T_c9d15_row0_col2\" class=\"data row0 col2\" >93536.420000</td>\n",
              "      <td id=\"T_c9d15_row0_col3\" class=\"data row0 col3\" >64715.516000</td>\n",
              "      <td id=\"T_c9d15_row0_col4\" class=\"data row0 col4\" >0.537450</td>\n",
              "    </tr>\n",
              "    <tr>\n",
              "      <th id=\"T_c9d15_level0_row1\" class=\"row_heading level0 row1\" >1</th>\n",
              "      <td id=\"T_c9d15_row1_col0\" class=\"data row1 col0\" >ETH-USD</td>\n",
              "      <td id=\"T_c9d15_row1_col1\" class=\"data row1 col1\" >2024-12-30 00:00:00</td>\n",
              "      <td id=\"T_c9d15_row1_col2\" class=\"data row1 col2\" >3349.818848</td>\n",
              "      <td id=\"T_c9d15_row1_col3\" class=\"data row1 col3\" >3041.193808</td>\n",
              "      <td id=\"T_c9d15_row1_col4\" class=\"data row1 col4\" >0.498958</td>\n",
              "    </tr>\n",
              "    <tr>\n",
              "      <th id=\"T_c9d15_level0_row2\" class=\"row_heading level0 row2\" >2</th>\n",
              "      <td id=\"T_c9d15_row2_col0\" class=\"data row2 col0\" >SOL-USD</td>\n",
              "      <td id=\"T_c9d15_row2_col1\" class=\"data row2 col1\" >2024-12-30 00:00:00</td>\n",
              "      <td id=\"T_c9d15_row2_col2\" class=\"data row2 col2\" >189.739212</td>\n",
              "      <td id=\"T_c9d15_row2_col3\" class=\"data row2 col3\" >155.100318</td>\n",
              "      <td id=\"T_c9d15_row2_col4\" class=\"data row2 col4\" >0.589800</td>\n",
              "    </tr>\n",
              "    <tr>\n",
              "      <th id=\"T_c9d15_level0_row3\" class=\"row_heading level0 row3\" >3</th>\n",
              "      <td id=\"T_c9d15_row3_col0\" class=\"data row3 col0\" >BNB-USD</td>\n",
              "      <td id=\"T_c9d15_row3_col1\" class=\"data row3 col1\" >2024-12-30 00:00:00</td>\n",
              "      <td id=\"T_c9d15_row3_col2\" class=\"data row3 col2\" >693.714844</td>\n",
              "      <td id=\"T_c9d15_row3_col3\" class=\"data row3 col3\" >541.762652</td>\n",
              "      <td id=\"T_c9d15_row3_col4\" class=\"data row3 col4\" >0.359541</td>\n",
              "    </tr>\n",
              "    <tr>\n",
              "      <th id=\"T_c9d15_level0_row4\" class=\"row_heading level0 row4\" >4</th>\n",
              "      <td id=\"T_c9d15_row4_col0\" class=\"data row4 col0\" >SUI20947-USD</td>\n",
              "      <td id=\"T_c9d15_row4_col1\" class=\"data row4 col1\" >2024-12-30 00:00:00</td>\n",
              "      <td id=\"T_c9d15_row4_col2\" class=\"data row4 col2\" >4.095997</td>\n",
              "      <td id=\"T_c9d15_row4_col3\" class=\"data row4 col3\" >1.647177</td>\n",
              "      <td id=\"T_c9d15_row4_col4\" class=\"data row4 col4\" >0.855235</td>\n",
              "    </tr>\n",
              "    <tr>\n",
              "      <th id=\"T_c9d15_level0_row5\" class=\"row_heading level0 row5\" >5</th>\n",
              "      <td id=\"T_c9d15_row5_col0\" class=\"data row5 col0\" >APT21794-USD</td>\n",
              "      <td id=\"T_c9d15_row5_col1\" class=\"data row5 col1\" >2024-12-30 00:00:00</td>\n",
              "      <td id=\"T_c9d15_row5_col2\" class=\"data row5 col2\" >8.880411</td>\n",
              "      <td id=\"T_c9d15_row5_col3\" class=\"data row5 col3\" >9.417281</td>\n",
              "      <td id=\"T_c9d15_row5_col4\" class=\"data row5 col4\" >0.368532</td>\n",
              "    </tr>\n",
              "    <tr>\n",
              "      <th id=\"T_c9d15_level0_row6\" class=\"row_heading level0 row6\" >6</th>\n",
              "      <td id=\"T_c9d15_row6_col0\" class=\"data row6 col0\" >XRP-USD</td>\n",
              "      <td id=\"T_c9d15_row6_col1\" class=\"data row6 col1\" >2024-12-30 00:00:00</td>\n",
              "      <td id=\"T_c9d15_row6_col2\" class=\"data row6 col2\" >2.093089</td>\n",
              "      <td id=\"T_c9d15_row6_col3\" class=\"data row6 col3\" >0.730096</td>\n",
              "      <td id=\"T_c9d15_row6_col4\" class=\"data row6 col4\" >0.808171</td>\n",
              "    </tr>\n",
              "    <tr>\n",
              "      <th id=\"T_c9d15_level0_row7\" class=\"row_heading level0 row7\" >7</th>\n",
              "      <td id=\"T_c9d15_row7_col0\" class=\"data row7 col0\" >LINK-USD</td>\n",
              "      <td id=\"T_c9d15_row7_col1\" class=\"data row7 col1\" >2024-12-30 00:00:00</td>\n",
              "      <td id=\"T_c9d15_row7_col2\" class=\"data row7 col2\" >20.937830</td>\n",
              "      <td id=\"T_c9d15_row7_col3\" class=\"data row7 col3\" >15.384014</td>\n",
              "      <td id=\"T_c9d15_row7_col4\" class=\"data row7 col4\" >0.615830</td>\n",
              "    </tr>\n",
              "    <tr>\n",
              "      <th id=\"T_c9d15_level0_row8\" class=\"row_heading level0 row8\" >8</th>\n",
              "      <td id=\"T_c9d15_row8_col0\" class=\"data row8 col0\" >RNDR-USD</td>\n",
              "      <td id=\"T_c9d15_row8_col1\" class=\"data row8 col1\" >2024-07-21 00:00:00</td>\n",
              "      <td id=\"T_c9d15_row8_col2\" class=\"data row8 col2\" >7.006582</td>\n",
              "      <td id=\"T_c9d15_row8_col3\" class=\"data row8 col3\" >5.384761</td>\n",
              "      <td id=\"T_c9d15_row8_col4\" class=\"data row8 col4\" >0.582312</td>\n",
              "    </tr>\n",
              "    <tr>\n",
              "      <th id=\"T_c9d15_level0_row9\" class=\"row_heading level0 row9\" >9</th>\n",
              "      <td id=\"T_c9d15_row9_col0\" class=\"data row9 col0\" >VIRTUAL-USD</td>\n",
              "      <td id=\"T_c9d15_row9_col1\" class=\"data row9 col1\" >2024-12-30 00:00:00</td>\n",
              "      <td id=\"T_c9d15_row9_col2\" class=\"data row9 col2\" >3.592998</td>\n",
              "      <td id=\"T_c9d15_row9_col3\" class=\"data row9 col3\" >0.351904</td>\n",
              "      <td id=\"T_c9d15_row9_col4\" class=\"data row9 col4\" >0.955411</td>\n",
              "    </tr>\n",
              "    <tr>\n",
              "      <th id=\"T_c9d15_level0_row10\" class=\"row_heading level0 row10\" >10</th>\n",
              "      <td id=\"T_c9d15_row10_col0\" class=\"data row10 col0\" >TAO22974-USD</td>\n",
              "      <td id=\"T_c9d15_row10_col1\" class=\"data row10 col1\" >2024-12-30 00:00:00</td>\n",
              "      <td id=\"T_c9d15_row10_col2\" class=\"data row10 col2\" >458.666168</td>\n",
              "      <td id=\"T_c9d15_row10_col3\" class=\"data row10 col3\" >439.870048</td>\n",
              "      <td id=\"T_c9d15_row10_col4\" class=\"data row10 col4\" >0.229875</td>\n",
              "    </tr>\n",
              "  </tbody>\n",
              "</table>\n"
            ]
          },
          "metadata": {},
          "execution_count": 94
        }
      ]
    },
    {
      "cell_type": "code",
      "source": [
        "cryptos_eur = {\n",
        "              'ETH-EUR':   '2016-01-01',\n",
        "              'SOL-EUR':   '2020-01-01',\n",
        "            }"
      ],
      "metadata": {
        "id": "MCxK6-aqKVw-"
      },
      "execution_count": 88,
      "outputs": []
    },
    {
      "cell_type": "code",
      "source": [
        "all_results = []\n",
        "for ticker, start_date in cryptos_eur.items():\n",
        "  all_results.extend(calculate_risk_metric(ticker, start_date))\n",
        "\n",
        "# Create a pandas DataFrame\n",
        "df_results = pd.DataFrame(all_results, columns=['ticker', 'date', 'value', 'MA', 'avg'])\n",
        "\n",
        "# Display the DataFrame as a table\n",
        "styled_df = df_results.style.applymap(lambda x: 'color: green' if x < 0.5 else '', subset=['avg'])\n",
        "styled_df"
      ],
      "metadata": {
        "colab": {
          "base_uri": "https://localhost:8080/",
          "height": 148
        },
        "id": "1VLOX-TpNVtm",
        "outputId": "33033626-9d83-4411-e940-6e5463035371"
      },
      "execution_count": 89,
      "outputs": [
        {
          "output_type": "stream",
          "name": "stderr",
          "text": [
            "<ipython-input-89-ccc19073e9f4>:9: FutureWarning: Styler.applymap has been deprecated. Use Styler.map instead.\n",
            "  styled_df = df_results.style.applymap(lambda x: 'color: green' if x < 0.5 else '', subset=['avg'])\n"
          ]
        },
        {
          "output_type": "execute_result",
          "data": {
            "text/plain": [
              "<pandas.io.formats.style.Styler at 0x7d84999c7820>"
            ],
            "text/html": [
              "<style type=\"text/css\">\n",
              "</style>\n",
              "<table id=\"T_9f35c\" class=\"dataframe\">\n",
              "  <thead>\n",
              "    <tr>\n",
              "      <th class=\"blank level0\" >&nbsp;</th>\n",
              "      <th id=\"T_9f35c_level0_col0\" class=\"col_heading level0 col0\" >ticker</th>\n",
              "      <th id=\"T_9f35c_level0_col1\" class=\"col_heading level0 col1\" >date</th>\n",
              "      <th id=\"T_9f35c_level0_col2\" class=\"col_heading level0 col2\" >value</th>\n",
              "      <th id=\"T_9f35c_level0_col3\" class=\"col_heading level0 col3\" >MA</th>\n",
              "      <th id=\"T_9f35c_level0_col4\" class=\"col_heading level0 col4\" >avg</th>\n",
              "    </tr>\n",
              "  </thead>\n",
              "  <tbody>\n",
              "    <tr>\n",
              "      <th id=\"T_9f35c_level0_row0\" class=\"row_heading level0 row0\" >0</th>\n",
              "      <td id=\"T_9f35c_row0_col0\" class=\"data row0 col0\" >ETH-EUR</td>\n",
              "      <td id=\"T_9f35c_row0_col1\" class=\"data row0 col1\" >2024-12-30 00:00:00</td>\n",
              "      <td id=\"T_9f35c_row0_col2\" class=\"data row0 col2\" >3211.725830</td>\n",
              "      <td id=\"T_9f35c_row0_col3\" class=\"data row0 col3\" >2810.966126</td>\n",
              "      <td id=\"T_9f35c_row0_col4\" class=\"data row0 col4\" >0.503908</td>\n",
              "    </tr>\n",
              "    <tr>\n",
              "      <th id=\"T_9f35c_level0_row1\" class=\"row_heading level0 row1\" >1</th>\n",
              "      <td id=\"T_9f35c_row1_col0\" class=\"data row1 col0\" >SOL-EUR</td>\n",
              "      <td id=\"T_9f35c_row1_col1\" class=\"data row1 col1\" >2024-12-30 00:00:00</td>\n",
              "      <td id=\"T_9f35c_row1_col2\" class=\"data row1 col2\" >181.917404</td>\n",
              "      <td id=\"T_9f35c_row1_col3\" class=\"data row1 col3\" >143.358024</td>\n",
              "      <td id=\"T_9f35c_row1_col4\" class=\"data row1 col4\" >0.595512</td>\n",
              "    </tr>\n",
              "  </tbody>\n",
              "</table>\n"
            ]
          },
          "metadata": {},
          "execution_count": 89
        }
      ]
    }
  ]
}