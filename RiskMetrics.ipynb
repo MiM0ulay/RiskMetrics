{
  "nbformat": 4,
  "nbformat_minor": 0,
  "metadata": {
    "colab": {
      "provenance": [],
      "authorship_tag": "ABX9TyOZQYbjBHEty0YTDcEZljhy",
      "include_colab_link": true
    },
    "kernelspec": {
      "name": "python3",
      "display_name": "Python 3"
    },
    "language_info": {
      "name": "python"
    }
  },
  "cells": [
    {
      "cell_type": "markdown",
      "metadata": {
        "id": "view-in-github",
        "colab_type": "text"
      },
      "source": [
        "<a href=\"https://colab.research.google.com/github/MiM0ulay/RiskMetrics/blob/main/RiskMetrics.ipynb\" target=\"_parent\"><img src=\"https://colab.research.google.com/assets/colab-badge.svg\" alt=\"Open In Colab\"/></a>"
      ]
    },
    {
      "cell_type": "code",
      "execution_count": 1,
      "metadata": {
        "colab": {
          "base_uri": "https://localhost:8080/"
        },
        "id": "Uja55SKFmRxO",
        "outputId": "d5c5235c-a44b-4a64-fa9d-d4833cc7848c"
      },
      "outputs": [
        {
          "output_type": "stream",
          "name": "stdout",
          "text": [
            "Collecting nasdaq-data-link\n",
            "  Downloading Nasdaq_Data_Link-1.0.4-py2.py3-none-any.whl.metadata (1.3 kB)\n",
            "Requirement already satisfied: pandas>=0.14 in /usr/local/lib/python3.10/dist-packages (from nasdaq-data-link) (2.2.2)\n",
            "Requirement already satisfied: numpy>=1.8 in /usr/local/lib/python3.10/dist-packages (from nasdaq-data-link) (1.26.4)\n",
            "Requirement already satisfied: requests>=2.7.0 in /usr/local/lib/python3.10/dist-packages (from nasdaq-data-link) (2.32.3)\n",
            "Collecting inflection>=0.3.1 (from nasdaq-data-link)\n",
            "  Downloading inflection-0.5.1-py2.py3-none-any.whl.metadata (1.7 kB)\n",
            "Requirement already satisfied: python-dateutil in /usr/local/lib/python3.10/dist-packages (from nasdaq-data-link) (2.8.2)\n",
            "Requirement already satisfied: six in /usr/local/lib/python3.10/dist-packages (from nasdaq-data-link) (1.17.0)\n",
            "Requirement already satisfied: more-itertools in /usr/local/lib/python3.10/dist-packages (from nasdaq-data-link) (10.5.0)\n",
            "Requirement already satisfied: pytz>=2020.1 in /usr/local/lib/python3.10/dist-packages (from pandas>=0.14->nasdaq-data-link) (2024.2)\n",
            "Requirement already satisfied: tzdata>=2022.7 in /usr/local/lib/python3.10/dist-packages (from pandas>=0.14->nasdaq-data-link) (2024.2)\n",
            "Requirement already satisfied: charset-normalizer<4,>=2 in /usr/local/lib/python3.10/dist-packages (from requests>=2.7.0->nasdaq-data-link) (3.4.0)\n",
            "Requirement already satisfied: idna<4,>=2.5 in /usr/local/lib/python3.10/dist-packages (from requests>=2.7.0->nasdaq-data-link) (3.10)\n",
            "Requirement already satisfied: urllib3<3,>=1.21.1 in /usr/local/lib/python3.10/dist-packages (from requests>=2.7.0->nasdaq-data-link) (2.2.3)\n",
            "Requirement already satisfied: certifi>=2017.4.17 in /usr/local/lib/python3.10/dist-packages (from requests>=2.7.0->nasdaq-data-link) (2024.12.14)\n",
            "Downloading Nasdaq_Data_Link-1.0.4-py2.py3-none-any.whl (28 kB)\n",
            "Downloading inflection-0.5.1-py2.py3-none-any.whl (9.5 kB)\n",
            "Installing collected packages: inflection, nasdaq-data-link\n",
            "Successfully installed inflection-0.5.1 nasdaq-data-link-1.0.4\n"
          ]
        }
      ],
      "source": [
        "!pip install nasdaq-data-link\n"
      ]
    },
    {
      "cell_type": "code",
      "source": [
        "from datetime import date\n",
        "import numpy as np\n",
        "import pandas as pd\n",
        "from plotly.subplots import make_subplots\n",
        "import plotly.express as px\n",
        "import plotly.graph_objects as go\n",
        "import nasdaqdatalink\n",
        "import yfinance as yf"
      ],
      "metadata": {
        "id": "RrdHwb6KmUgl"
      },
      "execution_count": 2,
      "outputs": []
    },
    {
      "cell_type": "code",
      "source": [
        "def calculate_risk_metric(ticker, start_date):\n",
        "  print(\"   \")\n",
        "  print(f\"**** {ticker} RISK METRIC\")\n",
        "  # Download data\n",
        "  df = yf.download(tickers=ticker, start=start_date, interval='1d')\n",
        "\n",
        "  # Debugging: Check the column names\n",
        "\n",
        "  # Reset the index and flatten column names (if needed)\n",
        "  df.reset_index(inplace=True)\n",
        "\n",
        "  # Handle multi-level columns (flatten them if they exist)\n",
        "  df.columns = [col[0] if isinstance(col, tuple) else col for col in df.columns]\n",
        "\n",
        "  # Debugging: Check flattened column names\n",
        "\n",
        "  # Rename columns for consistency\n",
        "  if 'Open' in df.columns:\n",
        "      df.rename(columns={'Date': 'date', 'Open': 'value'}, inplace=True)\n",
        "  elif 'value' not in df.columns:\n",
        "      raise KeyError(\"The required columns ('date', 'value') are not found in the DataFrame.\")\n",
        "\n",
        "  # Keep necessary columns\n",
        "  df = df[['date', 'value']].copy()\n",
        "\n",
        "  # Sort by date\n",
        "  df.sort_values(by='date', inplace=True)\n",
        "\n",
        "  # Calculate moving average\n",
        "  moving_average_days = 365\n",
        "  df['MA'] = df['value'].rolling(moving_average_days, min_periods=1).mean()\n",
        "\n",
        "  # Ensure no NaN values\n",
        "  df = df.dropna().reset_index(drop=True)\n",
        "\n",
        "  # Calculate Preavg\n",
        "  diminishing_factor = 0.395\n",
        "  df['Preavg'] = (np.log(df['value']) - np.log(df['MA'])) * (np.arange(len(df)) + 1) ** diminishing_factor\n",
        "  df['avg'] = (df['Preavg'] - df['Preavg'].cummin()) / (df['Preavg'].cummax() - df['Preavg'].cummin())\n",
        "  price_per_risk = {\n",
        "    round(risk, 1):round(np.exp(\n",
        "        (risk * (df['Preavg'].cummax().iloc[-1] - (cummin := df['Preavg'].cummin().iloc[-1])) + cummin) / df.index[-1]**diminishing_factor + np.log(df['MA'].iloc[-1])\n",
        "    ))\n",
        "    for risk in np.arange(0.0, 1.0, 0.1)\n",
        "  }\n",
        "  # Print results\n",
        "  print(df.tail(2))\n"
      ],
      "metadata": {
        "id": "869F9HdQmgA2"
      },
      "execution_count": 3,
      "outputs": []
    },
    {
      "cell_type": "code",
      "source": [
        "cryptos = { 'ETH-USD': '2016-01-01', 'ETH-EUR': '2016-01-01', 'SOL-USD': '2020-01-01', 'SOL-EUR': '2020-01-01', 'BNB-USD': '2017-01-01' }"
      ],
      "metadata": {
        "id": "5iXmU1dEo2U7"
      },
      "execution_count": 4,
      "outputs": []
    },
    {
      "cell_type": "code",
      "source": [
        "for ticker, start_date in cryptos.items():\n",
        "  calculate_risk_metric(ticker, start_date)"
      ],
      "metadata": {
        "colab": {
          "base_uri": "https://localhost:8080/"
        },
        "id": "21ZYPO98pbtX",
        "outputId": "15a6c662-2b5c-4013-b8b4-0da7fce3c591"
      },
      "execution_count": 5,
      "outputs": [
        {
          "output_type": "stream",
          "name": "stdout",
          "text": [
            "   \n",
            "**** ETH-USD RISK METRIC\n"
          ]
        },
        {
          "output_type": "stream",
          "name": "stderr",
          "text": [
            "\r[*********************100%***********************]  1 of 1 completed\n"
          ]
        },
        {
          "output_type": "stream",
          "name": "stdout",
          "text": [
            "           date        value           MA    Preavg       avg\n",
            "2606 2024-12-28  3328.774658  3035.288776  2.063320  0.496859\n",
            "2607 2024-12-29  3398.446289  3038.297123  2.504618  0.506304\n",
            "   \n",
            "**** ETH-EUR RISK METRIC\n"
          ]
        },
        {
          "output_type": "stream",
          "name": "stderr",
          "text": [
            "\r[*********************100%***********************]  1 of 1 completed\n"
          ]
        },
        {
          "output_type": "stream",
          "name": "stdout",
          "text": [
            "           date        value           MA    Preavg       avg\n",
            "2604 2024-12-28  3196.219238  2804.929305  2.918468  0.502551\n",
            "2605 2024-12-29  3258.963867  2808.048577  3.328599  0.511669\n",
            "   \n",
            "**** SOL-USD RISK METRIC\n"
          ]
        },
        {
          "output_type": "stream",
          "name": "stderr",
          "text": [
            "[*********************100%***********************]  1 of 1 completed\n",
            "[*********************100%***********************]  1 of 1 completed"
          ]
        },
        {
          "output_type": "stream",
          "name": "stdout",
          "text": [
            "           date       value          MA    Preavg       avg\n",
            "1723 2024-12-28  183.833389  154.616431  3.286134  0.579816\n",
            "1724 2024-12-29  195.021194  154.859507  4.378971  0.599918\n",
            "   \n",
            "**** SOL-EUR RISK METRIC\n"
          ]
        },
        {
          "output_type": "stream",
          "name": "stderr",
          "text": [
            "\n"
          ]
        },
        {
          "output_type": "stream",
          "name": "stdout",
          "text": [
            "           date       value          MA    Preavg       avg\n",
            "1723 2024-12-28  180.597931  142.892610  4.446125  0.594048\n",
            "1724 2024-12-29  187.016953  143.152322  5.075916  0.605781\n",
            "   \n",
            "**** BNB-USD RISK METRIC\n"
          ]
        },
        {
          "output_type": "stream",
          "name": "stderr",
          "text": [
            "\r[*********************100%***********************]  1 of 1 completed"
          ]
        },
        {
          "output_type": "stream",
          "name": "stdout",
          "text": [
            "           date       value          MA    Preavg       avg\n",
            "2606 2024-12-28  690.429382  539.615354  5.509562  0.359192\n",
            "2607 2024-12-29  720.953613  540.730729  6.431481  0.376083\n"
          ]
        },
        {
          "output_type": "stream",
          "name": "stderr",
          "text": [
            "\n"
          ]
        }
      ]
    }
  ]
}